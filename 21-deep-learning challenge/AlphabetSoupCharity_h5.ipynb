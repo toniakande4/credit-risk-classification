{
  "nbformat": 4,
  "nbformat_minor": 0,
  "metadata": {
    "colab": {
      "provenance": []
    },
    "kernelspec": {
      "name": "python3",
      "display_name": "Python 3"
    },
    "language_info": {
      "name": "python"
    }
  },
  "cells": [
    {
      "cell_type": "code",
      "execution_count": 1,
      "metadata": {
        "colab": {
          "base_uri": "https://localhost:8080/",
          "height": 211
        },
        "id": "G0wDcZk6G8QP",
        "outputId": "251615e3-e004-4322-a04e-019545f92eab"
      },
      "outputs": [
        {
          "output_type": "error",
          "ename": "NameError",
          "evalue": "name 'X_train_scaled' is not defined",
          "traceback": [
            "\u001b[0;31m---------------------------------------------------------------------------\u001b[0m",
            "\u001b[0;31mNameError\u001b[0m                                 Traceback (most recent call last)",
            "\u001b[0;32m<ipython-input-1-fda4120656f0>\u001b[0m in \u001b[0;36m<cell line: 0>\u001b[0;34m()\u001b[0m\n\u001b[1;32m      5\u001b[0m \u001b[0;32mfrom\u001b[0m \u001b[0mtensorflow\u001b[0m\u001b[0;34m.\u001b[0m\u001b[0mkeras\u001b[0m\u001b[0;34m.\u001b[0m\u001b[0mcallbacks\u001b[0m \u001b[0;32mimport\u001b[0m \u001b[0mModelCheckpoint\u001b[0m\u001b[0;34m\u001b[0m\u001b[0;34m\u001b[0m\u001b[0m\n\u001b[1;32m      6\u001b[0m \u001b[0;34m\u001b[0m\u001b[0m\n\u001b[0;32m----> 7\u001b[0;31m \u001b[0minput_features\u001b[0m \u001b[0;34m=\u001b[0m \u001b[0mX_train_scaled\u001b[0m\u001b[0;34m.\u001b[0m\u001b[0mshape\u001b[0m\u001b[0;34m[\u001b[0m\u001b[0;36m1\u001b[0m\u001b[0;34m]\u001b[0m\u001b[0;34m\u001b[0m\u001b[0;34m\u001b[0m\u001b[0m\n\u001b[0m\u001b[1;32m      8\u001b[0m \u001b[0mprint\u001b[0m\u001b[0;34m(\u001b[0m\u001b[0;34mf\"Number of input features: {input_features}\"\u001b[0m\u001b[0;34m)\u001b[0m\u001b[0;34m\u001b[0m\u001b[0;34m\u001b[0m\u001b[0m\n\u001b[1;32m      9\u001b[0m \u001b[0;34m\u001b[0m\u001b[0m\n",
            "\u001b[0;31mNameError\u001b[0m: name 'X_train_scaled' is not defined"
          ]
        }
      ],
      "source": [
        "import tensorflow as tf\n",
        "from tensorflow import keras\n",
        "from tensorflow.keras.models import Sequential\n",
        "from tensorflow.keras.layers import Dense\n",
        "from tensorflow.keras.callbacks import ModelCheckpoint\n",
        "\n",
        "input_features = X_train_scaled.shape[1]\n",
        "print(f\"Number of input features: {input_features}\")\n",
        "\n",
        "# Define the model\n",
        "model = Sequential()\n",
        "\n",
        "# First hidden layer\n",
        "model.add(Dense(units=64, activation=\"relu\", input_dim=input_features))\n",
        "\n",
        "# Second hidden layer (optional but recommended)\n",
        "model.add(Dense(units=32, activation=\"relu\"))\n",
        "\n",
        "# Output layer (binary classification → sigmoid)\n",
        "model.add(Dense(units=1, activation=\"sigmoid\"))\n",
        "\n",
        "# Display the model structure\n",
        "model.summary()\n",
        "\n",
        "\n",
        "\n",
        "# Define the model\n",
        "model = Sequential()\n",
        "\n",
        "# First hidden layer\n",
        "model.add(Dense(units=64, activation=\"relu\", input_dim=input_features))\n",
        "\n",
        "# Second hidden layer (optional but recommended)\n",
        "model.add(Dense(units=32, activation=\"relu\"))\n",
        "\n",
        "# Output layer (binary classification → sigmoid)\n",
        "model.add(Dense(units=1, activation=\"sigmoid\"))\n",
        "\n",
        "# Display the model structure\n",
        "model.summary()\n",
        "\n",
        "# Define checkpoint callback to save weights every 5 epochs\n",
        "checkpoint = ModelCheckpoint(\n",
        "    filepath=\"AlphabetSoupCharity.h5\",\n",
        "    save_weights_only=True,\n",
        "    save_freq=5 * (len(X_train_scaled) // 32),  # Every 5 epochs\n",
        "    verbose=1\n",
        ")\n",
        "\n",
        "# Train the model\n",
        "history = model.fit(\n",
        "    X_train_scaled, y_train,\n",
        "    epochs=50,\n",
        "    batch_size=32,\n",
        "    validation_data=(X_test_scaled, y_test),\n",
        "    callbacks=[checkpoint],\n",
        "    verbose=1\n",
        ")\n",
        "\n",
        "loss, accuracy = model.evaluate(X_test_scaled, y_test, verbose=1)\n",
        "print(f\"Test Loss: {loss:.4f}\")\n",
        "print(f\"Test Accuracy: {accuracy:.4f}\")\n",
        "\n",
        "model.save(\"AlphabetSoupCharity.h5\")"
      ]
    }
  ]
}